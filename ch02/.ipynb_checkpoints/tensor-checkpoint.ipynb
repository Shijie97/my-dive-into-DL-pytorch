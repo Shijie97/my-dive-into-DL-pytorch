{
 "cells": [
  {
   "cell_type": "code",
   "execution_count": 1,
   "metadata": {},
   "outputs": [
    {
     "data": {
      "text/plain": [
       "'1.1.0'"
      ]
     },
     "execution_count": 1,
     "metadata": {},
     "output_type": "execute_result"
    }
   ],
   "source": [
    "import torch\n",
    "torch.manual_seed(0)\n",
    "torch.cuda.manual_seed(0)\n",
    "torch.__version__"
   ]
  },
  {
   "cell_type": "code",
   "execution_count": 2,
   "metadata": {},
   "outputs": [
    {
     "name": "stdout",
     "output_type": "stream",
     "text": [
      "tensor([[1.7228e-34, 1.5669e+13, 6.2675e+13],\n",
      "        [9.2737e-41, 2.1163e-37, 2.1209e-37],\n",
      "        [1.9299e-37, 1.7228e-34, 4.0112e+15],\n",
      "        [1.6045e+16, 9.2737e-41, 2.1163e-37],\n",
      "        [2.1211e-37, 1.9302e-37, 1.7228e-34]])\n"
     ]
    }
   ],
   "source": [
    "x = torch.empty(5, 3)\n",
    "print(x)"
   ]
  },
  {
   "cell_type": "code",
   "execution_count": 3,
   "metadata": {},
   "outputs": [
    {
     "name": "stdout",
     "output_type": "stream",
     "text": [
      "tensor([[0.4963, 0.7682, 0.0885],\n",
      "        [0.1320, 0.3074, 0.6341],\n",
      "        [0.4901, 0.8964, 0.4556],\n",
      "        [0.6323, 0.3489, 0.4017],\n",
      "        [0.0223, 0.1689, 0.2939]])\n"
     ]
    }
   ],
   "source": [
    "x = torch.rand(5, 3)\n",
    "print(x)"
   ]
  },
  {
   "cell_type": "code",
   "execution_count": 4,
   "metadata": {},
   "outputs": [
    {
     "name": "stdout",
     "output_type": "stream",
     "text": [
      "tensor([[0, 0, 0],\n",
      "        [0, 0, 0],\n",
      "        [0, 0, 0],\n",
      "        [0, 0, 0],\n",
      "        [0, 0, 0]])\n"
     ]
    }
   ],
   "source": [
    "x = torch.zeros((5, 3), dtype = torch.long)\n",
    "print(x)"
   ]
  },
  {
   "cell_type": "code",
   "execution_count": 5,
   "metadata": {},
   "outputs": [
    {
     "name": "stdout",
     "output_type": "stream",
     "text": [
      "tensor([5.5000, 3.0000])\n",
      "<class 'torch.Tensor'>\n"
     ]
    }
   ],
   "source": [
    "x = torch.tensor([5.5, 3])\n",
    "print(x)\n",
    "print(type(x))"
   ]
  },
  {
   "cell_type": "code",
   "execution_count": 6,
   "metadata": {},
   "outputs": [
    {
     "name": "stdout",
     "output_type": "stream",
     "text": [
      "tensor([5.5000, 3.0000])\n",
      "tensor([[1., 1., 1.],\n",
      "        [1., 1., 1.],\n",
      "        [1., 1., 1.],\n",
      "        [1., 1., 1.],\n",
      "        [1., 1., 1.]], dtype=torch.float64)\n",
      "tensor([[0.1482, 0.4001, 0.2581],\n",
      "        [0.3216, 0.9932, 0.4233],\n",
      "        [0.2893, 0.9873, 0.4560],\n",
      "        [0.1587, 0.2538, 0.4384],\n",
      "        [0.9387, 0.9493, 0.2652]], dtype=torch.float64)\n"
     ]
    }
   ],
   "source": [
    "print(x)\n",
    "x = x.new_ones((5, 3), dtype = torch.float64)\n",
    "print(x)\n",
    "\n",
    "y = torch.rand_like(x)\n",
    "print(y)"
   ]
  },
  {
   "cell_type": "code",
   "execution_count": 7,
   "metadata": {},
   "outputs": [
    {
     "name": "stdout",
     "output_type": "stream",
     "text": [
      "torch.Size([5, 3])\n",
      "torch.Size([5, 3])\n"
     ]
    }
   ],
   "source": [
    "print(x.size()) # size需要加括号\n",
    "print(x.shape)  # shape不需要加括号"
   ]
  },
  {
   "cell_type": "markdown",
   "metadata": {},
   "source": [
    "下面是加法的三种形式～"
   ]
  },
  {
   "cell_type": "code",
   "execution_count": 8,
   "metadata": {
    "scrolled": true
   },
   "outputs": [
    {
     "name": "stdout",
     "output_type": "stream",
     "text": [
      "tensor([[1.9379, 1.3453, 1.8557],\n",
      "        [1.9765, 1.5404, 1.6448],\n",
      "        [1.8988, 1.9337, 1.6086],\n",
      "        [1.2084, 1.4951, 1.9268],\n",
      "        [1.8408, 1.5341, 1.3142]], dtype=torch.float64)\n"
     ]
    }
   ],
   "source": [
    "y = torch.rand(5, 3, dtype = torch.float64)\n",
    "print(x + y)"
   ]
  },
  {
   "cell_type": "code",
   "execution_count": 9,
   "metadata": {},
   "outputs": [
    {
     "name": "stdout",
     "output_type": "stream",
     "text": [
      "tensor([[1.9379, 1.3453, 1.8557],\n",
      "        [1.9765, 1.5404, 1.6448],\n",
      "        [1.8988, 1.9337, 1.6086],\n",
      "        [1.2084, 1.4951, 1.9268],\n",
      "        [1.8408, 1.5341, 1.3142]], dtype=torch.float64)\n"
     ]
    }
   ],
   "source": [
    "print(torch.add(x, y))"
   ]
  },
  {
   "cell_type": "code",
   "execution_count": 10,
   "metadata": {},
   "outputs": [
    {
     "name": "stdout",
     "output_type": "stream",
     "text": [
      "tensor([[1.9379, 1.3453, 1.8557],\n",
      "        [1.9765, 1.5404, 1.6448],\n",
      "        [1.8988, 1.9337, 1.6086],\n",
      "        [1.2084, 1.4951, 1.9268],\n",
      "        [1.8408, 1.5341, 1.3142]], dtype=torch.float64)\n"
     ]
    }
   ],
   "source": [
    "y.add_(x)\n",
    "print(y)"
   ]
  },
  {
   "cell_type": "markdown",
   "metadata": {},
   "source": [
    "索引，是引用，改变的同时会改变原有的值\n",
    "注意，torch里面，哪怕是多维张量都是可以用诸如+=的方式的"
   ]
  },
  {
   "cell_type": "code",
   "execution_count": 11,
   "metadata": {},
   "outputs": [
    {
     "name": "stdout",
     "output_type": "stream",
     "text": [
      "tensor([[1.9765, 1.5404, 1.6448],\n",
      "        [1.8988, 1.9337, 1.6086],\n",
      "        [1.2084, 1.4951, 1.9268],\n",
      "        [1.8408, 1.5341, 1.3142]], dtype=torch.float64)\n",
      "tensor([[2.9765, 2.5404, 2.6448],\n",
      "        [2.8988, 2.9337, 2.6086],\n",
      "        [2.2084, 2.4951, 2.9268],\n",
      "        [2.8408, 2.5341, 2.3142]], dtype=torch.float64)\n",
      "tensor([[1.9379, 1.3453, 1.8557],\n",
      "        [2.9765, 2.5404, 2.6448],\n",
      "        [2.8988, 2.9337, 2.6086],\n",
      "        [2.2084, 2.4951, 2.9268],\n",
      "        [2.8408, 2.5341, 2.3142]], dtype=torch.float64)\n"
     ]
    }
   ],
   "source": [
    "print(y[1 : ])\n",
    "z = y[1 : ]\n",
    "z += 1\n",
    "print(z)\n",
    "print(y)"
   ]
  },
  {
   "cell_type": "markdown",
   "metadata": {},
   "source": [
    "view操作不改变原有的值\n",
    "但是view之后的对象和原来的对象共享内存"
   ]
  },
  {
   "cell_type": "code",
   "execution_count": 12,
   "metadata": {},
   "outputs": [
    {
     "name": "stdout",
     "output_type": "stream",
     "text": [
      "tensor([[1.9379],\n",
      "        [1.3453],\n",
      "        [1.8557],\n",
      "        [2.9765],\n",
      "        [2.5404],\n",
      "        [2.6448],\n",
      "        [2.8988],\n",
      "        [2.9337],\n",
      "        [2.6086],\n",
      "        [2.2084],\n",
      "        [2.4951],\n",
      "        [2.9268],\n",
      "        [2.8408],\n",
      "        [2.5341],\n",
      "        [2.3142]], dtype=torch.float64)\n",
      "tensor([[1.9379, 1.3453, 1.8557],\n",
      "        [2.9765, 2.5404, 2.6448],\n",
      "        [2.8988, 2.9337, 2.6086],\n",
      "        [2.2084, 2.4951, 2.9268],\n",
      "        [2.8408, 2.5341, 2.3142]], dtype=torch.float64)\n",
      "tensor([[2.9379, 2.3453, 2.8557],\n",
      "        [3.9765, 3.5404, 3.6448],\n",
      "        [3.8988, 3.9337, 3.6086],\n",
      "        [3.2084, 3.4951, 3.9268],\n",
      "        [3.8408, 3.5341, 3.3142]], dtype=torch.float64)\n",
      "tensor([[2.9379],\n",
      "        [2.3453],\n",
      "        [2.8557],\n",
      "        [3.9765],\n",
      "        [3.5404],\n",
      "        [3.6448],\n",
      "        [3.8988],\n",
      "        [3.9337],\n",
      "        [3.6086],\n",
      "        [3.2084],\n",
      "        [3.4951],\n",
      "        [3.9268],\n",
      "        [3.8408],\n",
      "        [3.5341],\n",
      "        [3.3142]], dtype=torch.float64)\n"
     ]
    }
   ],
   "source": [
    "x = y.view(15, 1)\n",
    "print(x)\n",
    "print(y)\n",
    "y += 1\n",
    "print(y)\n",
    "print(x)"
   ]
  },
  {
   "cell_type": "markdown",
   "metadata": {},
   "source": [
    "如果不想共享内存，可以用clone()操作"
   ]
  },
  {
   "cell_type": "code",
   "execution_count": 13,
   "metadata": {},
   "outputs": [
    {
     "name": "stdout",
     "output_type": "stream",
     "text": [
      "tensor([[2.9379],\n",
      "        [2.3453],\n",
      "        [2.8557],\n",
      "        [3.9765],\n",
      "        [3.5404],\n",
      "        [3.6448],\n",
      "        [3.8988],\n",
      "        [3.9337],\n",
      "        [3.6086],\n",
      "        [3.2084],\n",
      "        [3.4951],\n",
      "        [3.9268],\n",
      "        [3.8408],\n",
      "        [3.5341],\n",
      "        [3.3142]], dtype=torch.float64)\n",
      "tensor([[2.9379],\n",
      "        [2.3453],\n",
      "        [2.8557],\n",
      "        [3.9765],\n",
      "        [3.5404],\n",
      "        [3.6448],\n",
      "        [3.8988],\n",
      "        [3.9337],\n",
      "        [3.6086],\n",
      "        [3.2084],\n",
      "        [3.4951],\n",
      "        [3.9268],\n",
      "        [3.8408],\n",
      "        [3.5341],\n",
      "        [3.3142]], dtype=torch.float64)\n",
      "tensor([[-97.0621, -97.6547, -97.1443],\n",
      "        [-96.0235, -96.4596, -96.3552],\n",
      "        [-96.1012, -96.0663, -96.3914],\n",
      "        [-96.7916, -96.5049, -96.0732],\n",
      "        [-96.1592, -96.4659, -96.6858]], dtype=torch.float64)\n"
     ]
    }
   ],
   "source": [
    "print(x)\n",
    "x_cp = x.clone().view(5, 3)\n",
    "x_cp -= 100\n",
    "print(x)\n",
    "print(x_cp)"
   ]
  },
  {
   "cell_type": "markdown",
   "metadata": {},
   "source": [
    "item()函数用于将torch的值转换成python里面的数"
   ]
  },
  {
   "cell_type": "code",
   "execution_count": 14,
   "metadata": {},
   "outputs": [
    {
     "name": "stdout",
     "output_type": "stream",
     "text": [
      "0.9411783814430237\n"
     ]
    },
    {
     "data": {
      "image/png": "[encoded data removed]",
      "text/plain": [
       "<Figure size 432x288 with 1 Axes>"
      ]
     },
     "metadata": {
      "needs_background": "light"
     },
     "output_type": "display_data"
    }
   ],
   "source": [
    "import matplotlib.pyplot as plt\n",
    "x = torch.rand(1, 1)\n",
    "print(x.item())\n",
    "lst = []\n",
    "for _ in range(10000):\n",
    "    x = torch.rand(1, 1).item()\n",
    "    lst.append(x)\n",
    "plt.hist(lst)\n",
    "plt.show()"
   ]
  },
  {
   "cell_type": "markdown",
   "metadata": {},
   "source": [
    "耳熟能详的广播机制"
   ]
  },
  {
   "cell_type": "code",
   "execution_count": 15,
   "metadata": {},
   "outputs": [
    {
     "name": "stdout",
     "output_type": "stream",
     "text": [
      "tensor([[1, 2]])\n",
      "tensor([[1],\n",
      "        [2],\n",
      "        [3]])\n",
      "tensor([[2, 3],\n",
      "        [3, 4],\n",
      "        [4, 5]])\n"
     ]
    }
   ],
   "source": [
    "x = torch.arange(1, 3).view(1, 2)\n",
    "y = torch.arange(1, 4).view(3, 1)\n",
    "print(x)\n",
    "print(y)\n",
    "print(x + y)"
   ]
  },
  {
   "cell_type": "markdown",
   "metadata": {},
   "source": [
    "运算的内存开销"
   ]
  },
  {
   "cell_type": "code",
   "execution_count": 16,
   "metadata": {},
   "outputs": [
    {
     "name": "stdout",
     "output_type": "stream",
     "text": [
      "False\n"
     ]
    }
   ],
   "source": [
    "x = torch.tensor([1, 2])\n",
    "y = torch.tensor([3, 4])\n",
    "y_id_before = id(y)\n",
    "y = y + x\n",
    "y_id_after = id(y)\n",
    "print(y_id_before == y_id_after)"
   ]
  },
  {
   "cell_type": "code",
   "execution_count": 17,
   "metadata": {},
   "outputs": [
    {
     "name": "stdout",
     "output_type": "stream",
     "text": [
      "True\n"
     ]
    }
   ],
   "source": [
    "x = torch.tensor([1, 2])\n",
    "y = torch.tensor([3, 4])\n",
    "y_id_before = id(y)\n",
    "y += x\n",
    "y_id_after = id(y)\n",
    "print(y_id_before == y_id_after)"
   ]
  },
  {
   "cell_type": "code",
   "execution_count": 18,
   "metadata": {},
   "outputs": [
    {
     "name": "stdout",
     "output_type": "stream",
     "text": [
      "True\n"
     ]
    }
   ],
   "source": [
    "x = torch.tensor([1, 2])\n",
    "y = torch.tensor([3, 4])\n",
    "y_id_before = id(y)\n",
    "y[:] = y + x\n",
    "y_id_after = id(y)\n",
    "print(y_id_before == y_id_after)"
   ]
  },
  {
   "cell_type": "markdown",
   "metadata": {},
   "source": [
    "tensor -> numpy\n",
    "共享内存"
   ]
  },
  {
   "cell_type": "code",
   "execution_count": 19,
   "metadata": {},
   "outputs": [
    {
     "name": "stdout",
     "output_type": "stream",
     "text": [
      "tensor([1, 2, 3]) [1 2 3]\n",
      "tensor([2, 3, 4]) [2 3 4]\n",
      "tensor([3, 4, 5]) [3 4 5]\n"
     ]
    }
   ],
   "source": [
    "import numpy as np\n",
    "x = torch.tensor([1, 2, 3])\n",
    "y = x.numpy()\n",
    "print(x, y)\n",
    "x += 1\n",
    "print(x, y)\n",
    "y += 1\n",
    "print(x , y)"
   ]
  },
  {
   "cell_type": "markdown",
   "metadata": {},
   "source": [
    "numpy -> tensor\n",
    "共享内存"
   ]
  },
  {
   "cell_type": "code",
   "execution_count": 20,
   "metadata": {},
   "outputs": [
    {
     "name": "stdout",
     "output_type": "stream",
     "text": [
      "[0 1 2 3 4 5 6 7 8 9] tensor([0, 1, 2, 3, 4, 5, 6, 7, 8, 9])\n",
      "[ 1  2  3  4  5  6  7  8  9 10] tensor([ 1,  2,  3,  4,  5,  6,  7,  8,  9, 10])\n",
      "[ 2  3  4  5  6  7  8  9 10 11] tensor([ 2,  3,  4,  5,  6,  7,  8,  9, 10, 11])\n"
     ]
    }
   ],
   "source": [
    "x = np.arange(10)\n",
    "y = torch.from_numpy(x)\n",
    "print(x, y)\n",
    "x += 1\n",
    "print(x, y)\n",
    "y += 1\n",
    "print(x , y)"
   ]
  },
  {
   "cell_type": "markdown",
   "metadata": {},
   "source": [
    "numpy -> tensor\n",
    "不共享内存"
   ]
  },
  {
   "cell_type": "code",
   "execution_count": 21,
   "metadata": {},
   "outputs": [
    {
     "name": "stdout",
     "output_type": "stream",
     "text": [
      "tensor([1, 2])\n"
     ]
    }
   ],
   "source": [
    "x = np.array([1, 2])\n",
    "y = torch.tensor(x)\n",
    "print(y)"
   ]
  },
  {
   "cell_type": "markdown",
   "metadata": {},
   "source": [
    "tensor on gpu"
   ]
  },
  {
   "cell_type": "code",
   "execution_count": 26,
   "metadata": {},
   "outputs": [
    {
     "name": "stdout",
     "output_type": "stream",
     "text": [
      "True\n",
      "tensor([[1.6783, 1.1152, 1.6777],\n",
      "        [1.7752, 1.0237, 1.1391],\n",
      "        [1.0517, 1.4531, 1.6832]], device='cuda:0')\n",
      "tensor([[1.6783, 1.1152, 1.6777],\n",
      "        [1.7752, 1.0237, 1.1391],\n",
      "        [1.0517, 1.4531, 1.6832]], dtype=torch.float64)\n"
     ]
    }
   ],
   "source": [
    "print(torch.cuda.is_available())\n",
    "if torch.cuda.is_available():\n",
    "    device = torch.device('cuda')\n",
    "    y = torch.ones((3, 3), device = device)\n",
    "    x = torch.rand(3, 3)\n",
    "    x = x.to(device)\n",
    "    z = x + y\n",
    "    print(z)\n",
    "    print(z.to('cpu', torch.double))"
   ]
  }
 ],
 "metadata": {
  "kernelspec": {
   "display_name": "Python (pytorch)",
   "language": "python",
   "name": "pytorch"
  },
  "language_info": {
   "codemirror_mode": {
    "name": "ipython",
    "version": 3
   },
   "file_extension": ".py",
   "mimetype": "text/x-python",
   "name": "python",
   "nbconvert_exporter": "python",
   "pygments_lexer": "ipython3",
   "version": "3.6.7"
  }
 },
 "nbformat": 4,
 "nbformat_minor": 2
}
