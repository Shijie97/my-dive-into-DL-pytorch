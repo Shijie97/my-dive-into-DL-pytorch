{
 "cells": [
  {
   "cell_type": "code",
   "execution_count": 1,
   "metadata": {},
   "outputs": [
    {
     "name": "stdout",
     "output_type": "stream",
     "text": [
      "1.1.0\n"
     ]
    }
   ],
   "source": [
    "import torch\n",
    "import torch.nn as nn\n",
    "import numpy as np\n",
    "import torch.utils.data as Data\n",
    "from torch.nn import init\n",
    "import torch.optim as optim\n",
    "\n",
    "torch.manual_seed(1)\n",
    "print(torch.__version__)\n",
    "torch.set_default_tensor_type('torch.FloatTensor')"
   ]
  },
  {
   "cell_type": "markdown",
   "metadata": {},
   "source": [
    "### 生成数据"
   ]
  },
  {
   "cell_type": "code",
   "execution_count": 2,
   "metadata": {},
   "outputs": [],
   "source": [
    "number_inputs = 2\n",
    "number_examples = 1000\n",
    "true_w = [2, -3.4]\n",
    "true_b = 4.2\n",
    "features = torch.randn((number_examples, number_inputs), dtype = torch.float32).view(-1, 2)\n",
    "labels = true_w[0] * features[:, 0] + true_w[1] * features[:, 1] + true_b\n",
    "labels += torch.tensor(np.random.normal(0, 0.01, size = labels.size()), dtype = torch.float32)\n",
    "labels = labels.view(-1, 1)"
   ]
  },
  {
   "cell_type": "markdown",
   "metadata": {},
   "source": [
    "### 读取数据"
   ]
  },
  {
   "cell_type": "code",
   "execution_count": 3,
   "metadata": {},
   "outputs": [
    {
     "name": "stdout",
     "output_type": "stream",
     "text": [
      "tensor([[ 0.0191,  1.6940],\n",
      "        [ 1.1017, -0.1759],\n",
      "        [-0.3420, -0.6605],\n",
      "        [-0.5564,  0.4420],\n",
      "        [-0.8513, -0.8662],\n",
      "        [ 0.1633,  1.1105],\n",
      "        [ 0.4543, -1.0420],\n",
      "        [-1.4244, -1.3247],\n",
      "        [-0.8824, -0.4934],\n",
      "        [-1.5032,  1.2445]])\n",
      "tensor([[-1.5170],\n",
      "        [ 7.0009],\n",
      "        [ 5.7574],\n",
      "        [ 1.5924],\n",
      "        [ 5.4406],\n",
      "        [ 0.7570],\n",
      "        [ 8.6436],\n",
      "        [ 5.8598],\n",
      "        [ 4.1094],\n",
      "        [-3.0329]])\n"
     ]
    }
   ],
   "source": [
    "batch_size = 10\n",
    "dataset = Data.TensorDataset(features, labels) # 训练集整理成dataset这么一个数据结构\n",
    "\n",
    "# 定义DataLoader，实则是一个迭代器\n",
    "data_iter = Data.DataLoader(\n",
    "    dataset = dataset,\n",
    "    batch_size = batch_size,\n",
    "    shuffle = True,\n",
    "    num_workers = 2 # 多进程读取，默认为0，即所有数据都在主进程被加载\n",
    ")\n",
    "\n",
    "# test\n",
    "for x, y in data_iter:\n",
    "    print(x)\n",
    "    print(y)\n",
    "    break\n"
   ]
  },
  {
   "cell_type": "markdown",
   "metadata": {},
   "source": [
    "### 定义模型"
   ]
  },
  {
   "cell_type": "code",
   "execution_count": 4,
   "metadata": {},
   "outputs": [
    {
     "name": "stdout",
     "output_type": "stream",
     "text": [
      "LinearNet(\n",
      "  (linear): Linear(in_features=2, out_features=1, bias=True)\n",
      ")\n",
      "<generator object Module.parameters at 0x7ff89cf64f68>\n",
      "Parameter containing:\n",
      "tensor([[-0.0224,  0.5324]], requires_grad=True)\n",
      "Parameter containing:\n",
      "tensor([0.4399], requires_grad=True)\n"
     ]
    }
   ],
   "source": [
    "# 定义自己的一个类，继承自nn.Module\n",
    "class LinearNet(nn.Module):\n",
    "    def __init__(self, n_features):\n",
    "        super(LinearNet, self).__init__() # 重写父类\n",
    "        self.linear = nn.Linear(n_features, 1) # 定义自身的全连接层\n",
    "    \n",
    "    def forward(self, x):\n",
    "        y = self.linear(x)\n",
    "        return y\n",
    "\n",
    "# test\n",
    "net = LinearNet(number_inputs)\n",
    "print(net)\n",
    "print(net.parameters()) # 生成器\n",
    "\n",
    "for param in net.parameters():\n",
    "    print(param)"
   ]
  },
  {
   "cell_type": "markdown",
   "metadata": {},
   "source": [
    "### 其他定义模型的方法\n",
    "我们还可以用nn.Sequential来更加方便地搭建网络，Sequential是一个有序的容器，网络层将按照在传入Sequential的顺序依次被添加到计算图中"
   ]
  },
  {
   "cell_type": "code",
   "execution_count": 5,
   "metadata": {},
   "outputs": [
    {
     "name": "stdout",
     "output_type": "stream",
     "text": [
      "Sequential(\n",
      "  (0): Linear(in_features=2, out_features=1, bias=True)\n",
      ")\n",
      "Linear(in_features=2, out_features=1, bias=True)\n",
      "\n",
      "Parameter containing:\n",
      "tensor([[-0.0800,  0.2756]], requires_grad=True)\n",
      "Parameter containing:\n",
      "tensor([-0.6180], requires_grad=True)\n"
     ]
    }
   ],
   "source": [
    "net2 = nn.Sequential(nn.Linear(number_inputs, 1))\n",
    "print(net2)\n",
    "print(net2[0])\n",
    "\n",
    "print('')\n",
    "\n",
    "# 可以通过net.parameters()来查看模型所有的可学习参数，此函数将返回一个生成器\n",
    "for param in net2.parameters():\n",
    "    print(param)"
   ]
  },
  {
   "cell_type": "markdown",
   "metadata": {},
   "source": [
    "### 初始化模型参数"
   ]
  },
  {
   "cell_type": "code",
   "execution_count": 6,
   "metadata": {},
   "outputs": [
    {
     "data": {
      "text/plain": [
       "Parameter containing:\n",
       "tensor([0.], requires_grad=True)"
      ]
     },
     "execution_count": 6,
     "metadata": {},
     "output_type": "execute_result"
    }
   ],
   "source": [
    "init.normal_(net.linear.weight, mean = 0, std = 0.01)\n",
    "init.constant_(net.linear.bias, 0)"
   ]
  },
  {
   "cell_type": "markdown",
   "metadata": {},
   "source": [
    "### 定义损失函数"
   ]
  },
  {
   "cell_type": "code",
   "execution_count": 7,
   "metadata": {},
   "outputs": [],
   "source": [
    "lossFunction = nn.MSELoss() # 均方误差"
   ]
  },
  {
   "cell_type": "markdown",
   "metadata": {},
   "source": [
    "### 定义优化算法"
   ]
  },
  {
   "cell_type": "code",
   "execution_count": 8,
   "metadata": {},
   "outputs": [
    {
     "name": "stdout",
     "output_type": "stream",
     "text": [
      "Adam (\n",
      "Parameter Group 0\n",
      "    amsgrad: False\n",
      "    betas: (0.9, 0.999)\n",
      "    eps: 1e-08\n",
      "    lr: 0.1\n",
      "    weight_decay: 0\n",
      ")\n"
     ]
    }
   ],
   "source": [
    "optimizer = optim.Adam(net.parameters(), lr = 0.1)\n",
    "print(optimizer)"
   ]
  },
  {
   "cell_type": "markdown",
   "metadata": {},
   "source": [
    "### 训练模型"
   ]
  },
  {
   "cell_type": "code",
   "execution_count": 9,
   "metadata": {},
   "outputs": [
    {
     "name": "stdout",
     "output_type": "stream",
     "text": [
      "epoch = 1  loss = 0.003572831628844142\n",
      "epoch = 2  loss = 0.00012239607167430222\n",
      "epoch = 3  loss = 0.00015515527047682554\n",
      "epoch = 4  loss = 0.00016435129509773105\n",
      "epoch = 5  loss = 8.17226609797217e-05\n",
      "epoch = 6  loss = 5.602465898846276e-05\n",
      "epoch = 7  loss = 6.936138379387558e-05\n",
      "epoch = 8  loss = 0.00016414967831224203\n",
      "epoch = 9  loss = 4.8002439143601805e-05\n",
      "epoch = 10  loss = 0.0001378660526825115\n"
     ]
    }
   ],
   "source": [
    "epoch_number = 10\n",
    "for i in range(epoch_number):\n",
    "    for data, label in data_iter:\n",
    "        output = net.forward(data)\n",
    "        loss = lossFunction(label, output)\n",
    "        optimizer.zero_grad() # 在反向传播之前清零\n",
    "        loss.backward()\n",
    "        optimizer.step()\n",
    "    print('epoch =', i + 1, ' loss =', loss.item())"
   ]
  },
  {
   "cell_type": "markdown",
   "metadata": {},
   "source": [
    "### 最终结果 "
   ]
  },
  {
   "cell_type": "code",
   "execution_count": 10,
   "metadata": {},
   "outputs": [
    {
     "name": "stdout",
     "output_type": "stream",
     "text": [
      "[2, -3.4] Parameter containing:\n",
      "tensor([[ 1.9998, -3.3999]], requires_grad=True)\n",
      "4.2 Parameter containing:\n",
      "tensor([4.2005], requires_grad=True)\n"
     ]
    }
   ],
   "source": [
    "print(true_w, net.linear.weight)\n",
    "print(true_b, net.linear.bias)"
   ]
  }
 ],
 "metadata": {
  "kernelspec": {
   "display_name": "Python (pytorch)",
   "language": "python",
   "name": "pytorch"
  },
  "language_info": {
   "codemirror_mode": {
    "name": "ipython",
    "version": 3
   },
   "file_extension": ".py",
   "mimetype": "text/x-python",
   "name": "python",
   "nbconvert_exporter": "python",
   "pygments_lexer": "ipython3",
   "version": "3.6.7"
  }
 },
 "nbformat": 4,
 "nbformat_minor": 2
}
